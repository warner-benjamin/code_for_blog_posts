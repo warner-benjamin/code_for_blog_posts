{
 "cells": [
  {
   "cell_type": "code",
   "execution_count": null,
   "id": "482adba4-eeae-4de5-8299-92c000c61eb9",
   "metadata": {},
   "outputs": [
    {
     "name": "stdout",
     "output_type": "stream",
     "text": [
      "Fri Dec  3 17:43:34 2021       \n",
      "+-----------------------------------------------------------------------------+\n",
      "| NVIDIA-SMI 495.44       Driver Version: 460.32.03    CUDA Version: 11.2     |\n",
      "|-------------------------------+----------------------+----------------------+\n",
      "| GPU  Name        Persistence-M| Bus-Id        Disp.A | Volatile Uncorr. ECC |\n",
      "| Fan  Temp  Perf  Pwr:Usage/Cap|         Memory-Usage | GPU-Util  Compute M. |\n",
      "|                               |                      |               MIG M. |\n",
      "|===============================+======================+======================|\n",
      "|   0  Tesla K80           Off  | 00000000:00:04.0 Off |                    0 |\n",
      "| N/A   47C    P0    59W / 149W |      0MiB / 11441MiB |      0%      Default |\n",
      "|                               |                      |                  N/A |\n",
      "+-------------------------------+----------------------+----------------------+\n",
      "                                                                               \n",
      "+-----------------------------------------------------------------------------+\n",
      "| Processes:                                                                  |\n",
      "|  GPU   GI   CI        PID   Type   Process name                  GPU Memory |\n",
      "|        ID   ID                                                   Usage      |\n",
      "|=============================================================================|\n",
      "|  No running processes found                                                 |\n",
      "+-----------------------------------------------------------------------------+\n"
     ]
    }
   ],
   "source": [
    "! nvidia-smi"
   ]
  },
  {
   "cell_type": "code",
   "execution_count": null,
   "id": "e4fd1738-f211-4b5e-a3ea-cfd4966279c6",
   "metadata": {},
   "outputs": [
    {
     "name": "stdout",
     "output_type": "stream",
     "text": [
      "processor\t: 0\n",
      "vendor_id\t: GenuineIntel\n",
      "cpu family\t: 6\n",
      "model\t\t: 63\n",
      "model name\t: Intel(R) Xeon(R) CPU @ 2.30GHz\n",
      "stepping\t: 0\n",
      "microcode\t: 0x1\n",
      "cpu MHz\t\t: 2299.998\n",
      "cache size\t: 46080 KB\n",
      "physical id\t: 0\n",
      "siblings\t: 2\n",
      "core id\t\t: 0\n",
      "cpu cores\t: 1\n",
      "apicid\t\t: 0\n",
      "initial apicid\t: 0\n",
      "fpu\t\t: yes\n",
      "fpu_exception\t: yes\n",
      "cpuid level\t: 13\n",
      "wp\t\t: yes\n",
      "flags\t\t: fpu vme de pse tsc msr pae mce cx8 apic sep mtrr pge mca cmov pat pse36 clflush mmx fxsr sse sse2 ss ht syscall nx pdpe1gb rdtscp lm constant_tsc rep_good nopl xtopology nonstop_tsc cpuid tsc_known_freq pni pclmulqdq ssse3 fma cx16 pcid sse4_1 sse4_2 x2apic movbe popcnt aes xsave avx f16c rdrand hypervisor lahf_lm abm invpcid_single ssbd ibrs ibpb stibp fsgsbase tsc_adjust bmi1 avx2 smep bmi2 erms invpcid xsaveopt arat md_clear arch_capabilities\n",
      "bugs\t\t: cpu_meltdown spectre_v1 spectre_v2 spec_store_bypass l1tf mds swapgs\n",
      "bogomips\t: 4599.99\n",
      "clflush size\t: 64\n",
      "cache_alignment\t: 64\n",
      "address sizes\t: 46 bits physical, 48 bits virtual\n",
      "power management:\n",
      "\n",
      "processor\t: 1\n",
      "vendor_id\t: GenuineIntel\n",
      "cpu family\t: 6\n",
      "model\t\t: 63\n",
      "model name\t: Intel(R) Xeon(R) CPU @ 2.30GHz\n",
      "stepping\t: 0\n",
      "microcode\t: 0x1\n",
      "cpu MHz\t\t: 2299.998\n",
      "cache size\t: 46080 KB\n",
      "physical id\t: 0\n",
      "siblings\t: 2\n",
      "core id\t\t: 0\n",
      "cpu cores\t: 1\n",
      "apicid\t\t: 1\n",
      "initial apicid\t: 1\n",
      "fpu\t\t: yes\n",
      "fpu_exception\t: yes\n",
      "cpuid level\t: 13\n",
      "wp\t\t: yes\n",
      "flags\t\t: fpu vme de pse tsc msr pae mce cx8 apic sep mtrr pge mca cmov pat pse36 clflush mmx fxsr sse sse2 ss ht syscall nx pdpe1gb rdtscp lm constant_tsc rep_good nopl xtopology nonstop_tsc cpuid tsc_known_freq pni pclmulqdq ssse3 fma cx16 pcid sse4_1 sse4_2 x2apic movbe popcnt aes xsave avx f16c rdrand hypervisor lahf_lm abm invpcid_single ssbd ibrs ibpb stibp fsgsbase tsc_adjust bmi1 avx2 smep bmi2 erms invpcid xsaveopt arat md_clear arch_capabilities\n",
      "bugs\t\t: cpu_meltdown spectre_v1 spectre_v2 spec_store_bypass l1tf mds swapgs\n",
      "bogomips\t: 4599.99\n",
      "clflush size\t: 64\n",
      "cache_alignment\t: 64\n",
      "address sizes\t: 46 bits physical, 48 bits virtual\n",
      "power management:\n",
      "\n"
     ]
    }
   ],
   "source": [
    "! cat /proc/cpuinfo"
   ]
  },
  {
   "cell_type": "code",
   "execution_count": null,
   "id": "7678d786-f979-4f24-8953-d4ed78ba76e5",
   "metadata": {},
   "outputs": [],
   "source": [
    "! pip install fastcore --upgrade -qq\n",
    "! pip install fastai --upgrade -qq\n",
    "! pip install transformers --upgrade -qq\n",
    "! pip install datasets --upgrade -qq\n",
    "! pip install pytorch_lightning --upgrade -qq\n",
    "! pip install wandb --upgrade -qq\n",
    "! pip install ohmeow-blurr --upgrade -qq\n",
    "! pip install timm --upgrade -qq\n",
    "! pip install git+https://github.com/warner-benjamin/fastai_snippets.git -qq"
   ]
  },
  {
   "cell_type": "code",
   "execution_count": null,
   "id": "9247e171-cd90-42ad-ab1d-5554b800a39b",
   "metadata": {},
   "outputs": [
    {
     "data": {
      "text/plain": [
       "'1.10.0+cu111'"
      ]
     },
     "execution_count": null,
     "metadata": {},
     "output_type": "execute_result"
    }
   ],
   "source": [
    "import torch\n",
    "torch.__version__"
   ]
  },
  {
   "cell_type": "code",
   "execution_count": null,
   "id": "0f642556-a02d-4233-82fd-9e2214afa050",
   "metadata": {},
   "outputs": [
    {
     "name": "stdout",
     "output_type": "stream",
     "text": [
      "env: WANDB_SILENT=true\n"
     ]
    }
   ],
   "source": [
    "%env WANDB_SILENT=true"
   ]
  },
  {
   "cell_type": "code",
   "execution_count": null,
   "id": "ec4c9359-84e9-435d-974e-afa9d2a28832",
   "metadata": {},
   "outputs": [
    {
     "data": {
      "text/plain": [
       "True"
      ]
     },
     "execution_count": null,
     "metadata": {},
     "output_type": "execute_result"
    }
   ],
   "source": [
    "import wandb\n",
    "wandb.login()"
   ]
  },
  {
   "cell_type": "code",
   "execution_count": null,
   "id": "i49mzht4d--b",
   "metadata": {},
   "outputs": [],
   "source": [
    "import os\n",
    "os.environ[\"TOKENIZERS_PARALLELISM\"] = \"false\""
   ]
  },
  {
   "cell_type": "markdown",
   "id": "0ce32137-7c91-4d9c-bfee-ca222d84646e",
   "metadata": {},
   "source": [
    "# Imports"
   ]
  },
  {
   "cell_type": "code",
   "execution_count": null,
   "id": "85500058-7c72-4130-a73b-133f5e218799",
   "metadata": {},
   "outputs": [],
   "source": [
    "import gc\n",
    "\n",
    "# import fastai\n",
    "from fastai.vision.all import *\n",
    "from fastai.text.all import *\n",
    "from fastai.callback.wandb import WandbCallback\n",
    "from fastai_snippets.callback import simpleprofiler\n",
    "from fastai_snippets.utils import simpleprofiler_wandb\n",
    "\n",
    "# import blurr/huggingface\n",
    "from blurr.data.all import *\n",
    "from blurr.modeling.all import *\n",
    "from datasets import load_dataset\n",
    "from transformers import AutoTokenizer, AutoConfig, AutoModelForSequenceClassification\n",
    "\n",
    "#import pytorch lightning\n",
    "import timm\n",
    "import pytorch_lightning as pl\n",
    "from pytorch_lightning import LightningDataModule, LightningModule, Trainer\n",
    "from torch.optim.lr_scheduler import OneCycleLR\n",
    "from torch.optim import AdamW\n",
    "import torchvision.transforms as tvt\n",
    "from torchvision.datasets import ImageFolder\n",
    "from pytorch_lightning.loggers import WandbLogger\n",
    "import torchmetrics"
   ]
  },
  {
   "cell_type": "markdown",
   "id": "ca85abe7-de85-4a56-b06d-28fa225b491d",
   "metadata": {},
   "source": [
    "# Setup"
   ]
  },
  {
   "cell_type": "code",
   "execution_count": null,
   "id": "K7xE3bE552n8",
   "metadata": {},
   "outputs": [],
   "source": [
    "plat = 'Colab Free'\n",
    "GPU = 'K80'\n",
    "img_bs = 48\n",
    "nlp_bs = 12"
   ]
  },
  {
   "cell_type": "code",
   "execution_count": null,
   "id": "VLpEa2goKwMF",
   "metadata": {},
   "outputs": [],
   "source": [
    "source = untar_data(URLs.IMAGENETTE_320)"
   ]
  },
  {
   "cell_type": "markdown",
   "id": "2f4f408e-61f5-41b1-810b-904382d9e5d1",
   "metadata": {},
   "source": [
    "## Modify SimpleProfiler to Log Results to wandb"
   ]
  },
  {
   "cell_type": "code",
   "execution_count": null,
   "id": "659fd4aa-34b7-4183-9da4-5d2703ab9912",
   "metadata": {},
   "outputs": [],
   "source": [
    "from pytorch_lightning.profiler.simple import SimpleProfiler\n",
    "\n",
    "@patch\n",
    "def summary(self:SimpleProfiler):\n",
    "    output_table = wandb.Table(columns=[\"Action\", \"Mean duration (s)\", \"Duration StDev (s)\", \"Num calls\", \"Total time (s)\", \"Percentage %\"])\n",
    "    if len(self.recorded_durations) > 0:\n",
    "        max_key = max(len(k) for k in self.recorded_durations.keys())\n",
    "\n",
    "        def log_row(action, mean, num_calls, total, per):\n",
    "            row = f\"{sep}{action:<{max_key}s}\\t|  {mean:<15}\\t|\"\n",
    "            row += f\"{num_calls:<15}\\t|  {total:<15}\\t|  {per:<15}\\t|\"\n",
    "            return row\n",
    "\n",
    "        report, total_duration = self._make_report()\n",
    "        output_table.add_data(\"Total\", \"-\", \"-\", \"_\", f\"{total_duration:.5}\", \"100 %\")\n",
    "        for action, durations, duration_per in report:\n",
    "            output_table.add_data(\n",
    "                action,\n",
    "                f\"{np.mean(durations):.5}\",\n",
    "                f\"{np.std(durations):.5}\",\n",
    "                f\"{len(durations):}\",\n",
    "                f\"{np.sum(durations):.5}\",\n",
    "                f\"{duration_per:.5}\",\n",
    "            )\n",
    "\n",
    "    wandb.log({\"simple_profiler\": output_table})"
   ]
  },
  {
   "cell_type": "markdown",
   "id": "03ec48fd-ee49-446e-a2c0-1ca123cfbb44",
   "metadata": {},
   "source": [
    "## PyTorch Lightning Imagenette"
   ]
  },
  {
   "cell_type": "code",
   "execution_count": null,
   "id": "ce54707d-d2e1-4a63-a2ee-371019f8779f",
   "metadata": {},
   "outputs": [],
   "source": [
    "class ImagenetteDataModule(LightningDataModule):\n",
    "    def __init__(self, size, woof, bs, train_transform=None, valid_transform=None):\n",
    "        super().__init__()\n",
    "        self.size, self.woof, self.bs = size, woof, bs\n",
    "        imagewoof_stats  = ([0.496,0.461,0.399],[0.257,0.249,0.258])\n",
    "        imagenette_stats = ([0.465,0.458,0.429],[0.285,0.28,0.301])\n",
    "\n",
    "        if train_transform == None:\n",
    "            self.train_transform = tvt.Compose([\n",
    "                tvt.RandomResizedCrop(size, scale=(0.35, 1)),\n",
    "                tvt.RandomHorizontalFlip(),\n",
    "                tvt.ToTensor(),\n",
    "                tvt.Normalize(*imagewoof_stats) if woof else tvt.Normalize(*imagenette_stats)])\n",
    "        else:\n",
    "            self.train_transform = transforms.Compose(train_transform)\n",
    "\n",
    "        if valid_transform == None:\n",
    "            self.valid_transform = tvt.Compose([\n",
    "                tvt.CenterCrop(size),\n",
    "                tvt.ToTensor(),\n",
    "                tvt.Normalize(*imagewoof_stats) if woof else tvt.Normalize(*imagenette_stats)])\n",
    "        else:\n",
    "            self.valid_transform = transforms.Compose(valid_transform)\n",
    "\n",
    "    def prepare_data(self):\n",
    "        if self.size<=224: path = URLs.IMAGEWOOF_320 if self.woof else URLs.IMAGENETTE_320\n",
    "        else             : path = URLs.IMAGEWOOF     if self.woof else URLs.IMAGENETTE\n",
    "        self.source = untar_data(path)\n",
    "\n",
    "    def setup(self, stage=None):\n",
    "        if stage == \"fit\" or stage is None:\n",
    "            self.train = ImageFolder(self.source/'train', self.train_transform)\n",
    "        self.val = ImageFolder(self.source/'val', self.valid_transform)\n",
    "\n",
    "    def train_dataloader(self):\n",
    "        return DataLoader(self.train, batch_size=self.bs, shuffle=True, pin_memory=True, num_workers=min(8, num_cpus()))\n",
    "\n",
    "    def val_dataloader(self):\n",
    "        return DataLoader(self.val, batch_size=self.bs, pin_memory=True, num_workers=min(8, num_cpus()))\n",
    "\n",
    "    def teardown(self, stage=None):\n",
    "        self.train = None\n",
    "        self.val = None"
   ]
  },
  {
   "cell_type": "code",
   "execution_count": null,
   "id": "f1b1a278-956f-4dac-9ff7-749fa370ae51",
   "metadata": {},
   "outputs": [],
   "source": [
    "class ResNet(LightningModule):\n",
    "    def __init__(self, model, lr=3e-3, mom=0.9, wd=1e-2):\n",
    "        super().__init__()\n",
    "\n",
    "        self.save_hyperparameters(ignore='model')\n",
    "        self.model = model()\n",
    "        self.loss_fn = LabelSmoothingCrossEntropy()\n",
    "        self.accuracy = torchmetrics.Accuracy()\n",
    "\n",
    "    def forward(self, x):\n",
    "        return self.model(x)\n",
    "\n",
    "    def training_step(self, batch, batch_idx):\n",
    "        x, y = batch\n",
    "        x = self(x)\n",
    "        loss = self.loss_fn(x, y)\n",
    "        self.log(\"train_loss\", loss)\n",
    "        return loss\n",
    "\n",
    "    def evaluate(self, batch, stage=None):\n",
    "        x, y = batch\n",
    "        x = self(x)\n",
    "        loss = self.loss_fn(x, y)\n",
    "        preds = F.softmax(x, dim=-1).argmax(dim=-1)\n",
    "        self.accuracy(preds, y)\n",
    "\n",
    "        if stage:\n",
    "            self.log(f\"{stage}_loss\", loss, prog_bar=True, on_epoch=True)\n",
    "            self.log(f\"{stage}_acc\", self.accuracy, prog_bar=True, on_epoch=True)\n",
    "\n",
    "    def validation_step(self, batch, batch_idx):\n",
    "        self.evaluate(batch, \"val\")\n",
    "\n",
    "    def test_step(self, batch, batch_idx):\n",
    "        self.evaluate(batch, \"test\")\n",
    "\n",
    "    def configure_optimizers(self):\n",
    "        optimizer = AdamW(self.parameters(),lr=self.hparams.lr, eps=1e-5)\n",
    "        \n",
    "        scheduler_dict = {\n",
    "            \"scheduler\": OneCycleLR(\n",
    "                optimizer=optimizer,\n",
    "                max_lr =self.hparams.lr,\n",
    "                total_steps=self.num_training_steps\n",
    "            ),\n",
    "            \"interval\": \"step\",\n",
    "            \"frequency\": 1\n",
    "        }\n",
    "        return {\"optimizer\": optimizer, \"lr_scheduler\": scheduler_dict}\n",
    "\n",
    "    # lightly modified from rohitgr7 https://github.com/PyTorchLightning/pytorch-lightning/issues/10760\n",
    "    @property\n",
    "    def num_training_steps(self) -> int:\n",
    "        \"\"\"Total training steps inferred from datamodule and devices.\"\"\"\n",
    "        if self.trainer.num_training_batches != float('inf'):\n",
    "            dataset_size = self.trainer.num_training_batches\n",
    "        else:\n",
    "            print('Requesting dataloader...')\n",
    "            dataset_size = len(self.trainer._data_connector._train_dataloader_source.dataloader())\n",
    "\n",
    "        if isinstance(self.trainer.limit_train_batches, int):\n",
    "            dataset_size = min(dataset_size, self.trainer.limit_train_batches)\n",
    "        else:\n",
    "            dataset_size = int(dataset_size * self.trainer.limit_train_batches)\n",
    "\n",
    "        accelerator_connector = self.trainer._accelerator_connector\n",
    "        if accelerator_connector.use_ddp2 or accelerator_connector.use_dp:\n",
    "            effective_devices = 1\n",
    "        else:\n",
    "            effective_devices = self.trainer.devices\n",
    "\n",
    "        effective_devices = effective_devices * self.trainer.num_nodes\n",
    "        effective_batch_size = self.trainer.accumulate_grad_batches * effective_devices\n",
    "        max_estimated_steps = math.ceil(dataset_size // effective_batch_size) * self.trainer.max_epochs\n",
    "\n",
    "        max_estimated_steps = min(max_estimated_steps, self.trainer.max_steps) if self.trainer.max_steps != -1 else max_estimated_steps\n",
    "        return max_estimated_steps"
   ]
  },
  {
   "cell_type": "code",
   "execution_count": null,
   "id": "ec6379e4-ef33-4efe-b83b-5f256ced374d",
   "metadata": {},
   "outputs": [],
   "source": [
    "def train_pl(model, epochs, name, size):\n",
    "    for precision in [16]:\n",
    "        resnet = ResNet(model)\n",
    "        imagenette = ImagenetteDataModule(size, False, img_bs if precision==16 else int(img_bs/2))\n",
    "\n",
    "        wandb_logger = WandbLogger(project=\"sagecolab\", name=f'{name} {plat} {GPU} fp{precision}', log_model=False)\n",
    "        trainer = Trainer(gpus=1, precision=precision, max_epochs=epochs, num_sanity_val_steps=0,\n",
    "                          benchmark=True, profiler=\"simple\", logger=wandb_logger, enable_checkpointing=False)\n",
    "        trainer.fit(resnet, imagenette)\n",
    "        wandb.log({}) # ensure sync of last step\n",
    "        wandb.finish()\n",
    "\n",
    "        trainer, resnet, imagenette= None, None, None\n",
    "        gc.collect()\n",
    "        torch.cuda.empty_cache()"
   ]
  },
  {
   "cell_type": "markdown",
   "id": "d0303524-20e1-4184-928a-d0de80f8e537",
   "metadata": {},
   "source": [
    "## Fastai Imagenette"
   ]
  },
  {
   "cell_type": "code",
   "execution_count": null,
   "id": "4ba5b3a4-be13-478b-9bc4-f039deb2a62b",
   "metadata": {},
   "outputs": [],
   "source": [
    "imagewoof_stats =  ([0.496,0.461,0.399],[0.257,0.249,0.258])\n",
    "imagenette_stats = ([0.465,0.458,0.429],[0.285,0.28,0.301])\n",
    "\n",
    "def get_imagenette_dls(size, woof, bs, sh=0., augs=None, workers=None, stats=True):\n",
    "    if size<=224: path = URLs.IMAGEWOOF_320 if woof else URLs.IMAGENETTE_320\n",
    "    else        : path = URLs.IMAGEWOOF     if woof else URLs.IMAGENETTE\n",
    "    source = untar_data(path)\n",
    "    if workers is None: workers = min(8, num_cpus())\n",
    "    batch_tfms = []\n",
    "    if stats:\n",
    "        if woof: \n",
    "            batch_tfms += [Normalize.from_stats(*imagewoof_stats)]\n",
    "        else:\n",
    "            batch_tfms += [Normalize.from_stats(*imagenette_stats)]\n",
    "    if augs: batch_tfms += augs\n",
    "    if sh: batch_tfms.append(RandomErasing(p=0.3, max_count=3, sh=sh))\n",
    "    dblock = DataBlock(blocks=(ImageBlock, CategoryBlock),\n",
    "                       splitter=GrandparentSplitter(valid_name='val'),\n",
    "                       get_items=get_image_files, get_y=parent_label,\n",
    "                       item_tfms=[RandomResizedCrop(size, min_scale=0.35), FlipItem(0.5)],\n",
    "                       batch_tfms=batch_tfms)\n",
    "    if size==128: bs = 64\n",
    "    return dblock.dataloaders(source, path=source, bs=bs, num_workers=workers)"
   ]
  },
  {
   "cell_type": "code",
   "execution_count": null,
   "id": "bfad0e80-6581-4c8a-9517-bb9266d6d17d",
   "metadata": {},
   "outputs": [],
   "source": [
    "def train_imagenette_fastai(model, epochs, name, size, precision=[16, 32], augs=None):\n",
    "    for fp in precision:\n",
    "        dls = get_imagenette_dls(size, False, img_bs if fp==16 else int(img_bs/2), augs=augs)\n",
    "        train_fastai(dls, model(), epochs, name, precision=fp)"
   ]
  },
  {
   "cell_type": "markdown",
   "id": "d218f511-da40-4d76-b158-0c87a3279045",
   "metadata": {},
   "source": [
    "## Fastai-Blurr IMDB"
   ]
  },
  {
   "cell_type": "code",
   "execution_count": null,
   "id": "21634246-3cb7-48be-9c87-da6996748e1f",
   "metadata": {},
   "outputs": [],
   "source": [
    "def get_imdb_dls(model_name, bs):\n",
    "    dataset = load_dataset('imdb')\n",
    "    df = pd.DataFrame(dataset['train'])\n",
    "    df['is_valid'] = False\n",
    "    df = df.sample(frac=0.1, random_state=42)\n",
    "    df2 = pd.DataFrame(dataset['test'])\n",
    "    df2['is_valid'] = True\n",
    "    df2 = df2.sample(frac=0.1, random_state=42)\n",
    "    df = df.append(df2, ignore_index=True)\n",
    "\n",
    "    config = AutoConfig.from_pretrained(model_name)\n",
    "    config.num_labels = len(df['label'].unique())\n",
    "    hf_arch, hf_config, hf_tokenizer, hf_model = BLURR.get_hf_objects(model_name, model_cls=AutoModelForSequenceClassification, config=config)\n",
    "\n",
    "    dblock = DataBlock(blocks=(HF_TextBlock(hf_arch, hf_config, hf_tokenizer, hf_model), CategoryBlock),  \n",
    "                      get_x=ColReader('text'), \n",
    "                      get_y=ColReader('label'), \n",
    "                      splitter=ColSplitter())\n",
    "\n",
    "    return hf_model, dblock.dataloaders(df, bs=bs, workers=min(8, num_cpus()))"
   ]
  },
  {
   "cell_type": "code",
   "execution_count": null,
   "id": "979f418c-b75c-45b5-9e8f-797e5c0f8c1b",
   "metadata": {},
   "outputs": [],
   "source": [
    "def train_imdb_fastai(model_name, epochs, name):\n",
    "    for precision in [16]:\n",
    "        hf_model, dls = get_imdb_dls(model_name, nlp_bs if precision==16 else int(nlp_bs/2))\n",
    "        model = HF_BaseModelWrapper(hf_model)\n",
    "        train_fastai(dls, model, epochs, name, splitter=hf_splitter, cbs=[HF_BaseModelCallback], precision=precision)"
   ]
  },
  {
   "cell_type": "markdown",
   "id": "787ab73e-c95d-404b-a9d7-6b10073cace8",
   "metadata": {},
   "source": [
    "## Generic Fastai Training"
   ]
  },
  {
   "cell_type": "code",
   "execution_count": null,
   "id": "zeT5Md5HCcu7",
   "metadata": {},
   "outputs": [],
   "source": [
    "def train_fastai(dls, model, epochs, name, splitter=trainable_params, cbs=[], precision=16):\n",
    "    run = wandb.init(project=\"sagecolab\", name=f'{name} {plat} {GPU} fp{precision}')\n",
    "    learn = Learner(dls, model, cbs=cbs, splitter=splitter).profile()\n",
    "    if precision==16:\n",
    "        learn.to_fp16()\n",
    "    \n",
    "    learn.fit_one_cycle(epochs, 3e-3, cbs=[WandbCallback(log=None, log_preds=False, log_model=False)])\n",
    "\n",
    "    run.finish()\n",
    "\n",
    "    learn.dls, learn = None,  None\n",
    "    gc.collect()\n",
    "    torch.cuda.empty_cache()"
   ]
  },
  {
   "cell_type": "markdown",
   "id": "dRqdXh2U_F2b",
   "metadata": {},
   "source": [
    "# Training"
   ]
  },
  {
   "cell_type": "markdown",
   "id": "LTvhq-DPAwAO",
   "metadata": {},
   "source": [
    "## Train Imagenette Fastai"
   ]
  },
  {
   "cell_type": "code",
   "execution_count": null,
   "id": "7vY7TJgZAz_f",
   "metadata": {},
   "outputs": [
    {
     "data": {
      "text/html": [
       "<table border=\"1\" class=\"dataframe\">\n",
       "  <thead>\n",
       "    <tr style=\"text-align: left;\">\n",
       "      <th>epoch</th>\n",
       "      <th>train_loss</th>\n",
       "      <th>valid_loss</th>\n",
       "      <th>time</th>\n",
       "    </tr>\n",
       "  </thead>\n",
       "  <tbody>\n",
       "    <tr>\n",
       "      <td>0</td>\n",
       "      <td>1.559936</td>\n",
       "      <td>1.617788</td>\n",
       "      <td>11:14</td>\n",
       "    </tr>\n",
       "    <tr>\n",
       "      <td>1</td>\n",
       "      <td>1.139893</td>\n",
       "      <td>1.034490</td>\n",
       "      <td>10:55</td>\n",
       "    </tr>\n",
       "  </tbody>\n",
       "</table>"
      ],
      "text/plain": [
       "<IPython.core.display.HTML object>"
      ]
     },
     "metadata": {},
     "output_type": "display_data"
    },
    {
     "data": {
      "text/html": [
       "<style  type=\"text/css\" >\n",
       "</style><table id=\"T_c72b094a_5463_11ec_a6c7_0242ac1c0002\" class=\"dataframe\"><caption>Simple Profiler Results</caption><thead>    <tr>        <th class=\"col_heading level0 col0\" >Phase</th>        <th class=\"col_heading level0 col1\" >Action</th>        <th class=\"col_heading level0 col2\" >Mean Duration</th>        <th class=\"col_heading level0 col3\" >Duration Std Dev</th>        <th class=\"col_heading level0 col4\" >Number of Calls</th>        <th class=\"col_heading level0 col5\" >Total Time</th>        <th class=\"col_heading level0 col6\" >Percent of Total</th>    </tr></thead><tbody>\n",
       "                <tr>\n",
       "                                <td id=\"T_c72b094a_5463_11ec_a6c7_0242ac1c0002row0_col0\" class=\"data row0 col0\" >fit</td>\n",
       "                        <td id=\"T_c72b094a_5463_11ec_a6c7_0242ac1c0002row0_col1\" class=\"data row0 col1\" >fit</td>\n",
       "                        <td id=\"T_c72b094a_5463_11ec_a6c7_0242ac1c0002row0_col2\" class=\"data row0 col2\" >-</td>\n",
       "                        <td id=\"T_c72b094a_5463_11ec_a6c7_0242ac1c0002row0_col3\" class=\"data row0 col3\" >-</td>\n",
       "                        <td id=\"T_c72b094a_5463_11ec_a6c7_0242ac1c0002row0_col4\" class=\"data row0 col4\" >1</td>\n",
       "                        <td id=\"T_c72b094a_5463_11ec_a6c7_0242ac1c0002row0_col5\" class=\"data row0 col5\" >1.330ks</td>\n",
       "                        <td id=\"T_c72b094a_5463_11ec_a6c7_0242ac1c0002row0_col6\" class=\"data row0 col6\" >100%</td>\n",
       "            </tr>\n",
       "            <tr>\n",
       "                                <td id=\"T_c72b094a_5463_11ec_a6c7_0242ac1c0002row1_col0\" class=\"data row1 col0\" ></td>\n",
       "                        <td id=\"T_c72b094a_5463_11ec_a6c7_0242ac1c0002row1_col1\" class=\"data row1 col1\" >epoch</td>\n",
       "                        <td id=\"T_c72b094a_5463_11ec_a6c7_0242ac1c0002row1_col2\" class=\"data row1 col2\" >664.9 s</td>\n",
       "                        <td id=\"T_c72b094a_5463_11ec_a6c7_0242ac1c0002row1_col3\" class=\"data row1 col3\" >9.262 s</td>\n",
       "                        <td id=\"T_c72b094a_5463_11ec_a6c7_0242ac1c0002row1_col4\" class=\"data row1 col4\" >2</td>\n",
       "                        <td id=\"T_c72b094a_5463_11ec_a6c7_0242ac1c0002row1_col5\" class=\"data row1 col5\" >1.330ks</td>\n",
       "                        <td id=\"T_c72b094a_5463_11ec_a6c7_0242ac1c0002row1_col6\" class=\"data row1 col6\" >100%</td>\n",
       "            </tr>\n",
       "            <tr>\n",
       "                                <td id=\"T_c72b094a_5463_11ec_a6c7_0242ac1c0002row2_col0\" class=\"data row2 col0\" ></td>\n",
       "                        <td id=\"T_c72b094a_5463_11ec_a6c7_0242ac1c0002row2_col1\" class=\"data row2 col1\" >train</td>\n",
       "                        <td id=\"T_c72b094a_5463_11ec_a6c7_0242ac1c0002row2_col2\" class=\"data row2 col2\" >593.1 s</td>\n",
       "                        <td id=\"T_c72b094a_5463_11ec_a6c7_0242ac1c0002row2_col3\" class=\"data row2 col3\" >7.196 s</td>\n",
       "                        <td id=\"T_c72b094a_5463_11ec_a6c7_0242ac1c0002row2_col4\" class=\"data row2 col4\" >2</td>\n",
       "                        <td id=\"T_c72b094a_5463_11ec_a6c7_0242ac1c0002row2_col5\" class=\"data row2 col5\" >1.186ks</td>\n",
       "                        <td id=\"T_c72b094a_5463_11ec_a6c7_0242ac1c0002row2_col6\" class=\"data row2 col6\" >89%</td>\n",
       "            </tr>\n",
       "            <tr>\n",
       "                                <td id=\"T_c72b094a_5463_11ec_a6c7_0242ac1c0002row3_col0\" class=\"data row3 col0\" ></td>\n",
       "                        <td id=\"T_c72b094a_5463_11ec_a6c7_0242ac1c0002row3_col1\" class=\"data row3 col1\" >validate</td>\n",
       "                        <td id=\"T_c72b094a_5463_11ec_a6c7_0242ac1c0002row3_col2\" class=\"data row3 col2\" >71.71 s</td>\n",
       "                        <td id=\"T_c72b094a_5463_11ec_a6c7_0242ac1c0002row3_col3\" class=\"data row3 col3\" >2.065 s</td>\n",
       "                        <td id=\"T_c72b094a_5463_11ec_a6c7_0242ac1c0002row3_col4\" class=\"data row3 col4\" >2</td>\n",
       "                        <td id=\"T_c72b094a_5463_11ec_a6c7_0242ac1c0002row3_col5\" class=\"data row3 col5\" >143.4 s</td>\n",
       "                        <td id=\"T_c72b094a_5463_11ec_a6c7_0242ac1c0002row3_col6\" class=\"data row3 col6\" >11%</td>\n",
       "            </tr>\n",
       "            <tr>\n",
       "                                <td id=\"T_c72b094a_5463_11ec_a6c7_0242ac1c0002row4_col0\" class=\"data row4 col0\" >train</td>\n",
       "                        <td id=\"T_c72b094a_5463_11ec_a6c7_0242ac1c0002row4_col1\" class=\"data row4 col1\" >batch</td>\n",
       "                        <td id=\"T_c72b094a_5463_11ec_a6c7_0242ac1c0002row4_col2\" class=\"data row4 col2\" >2.959 s</td>\n",
       "                        <td id=\"T_c72b094a_5463_11ec_a6c7_0242ac1c0002row4_col3\" class=\"data row4 col3\" >698.7ms</td>\n",
       "                        <td id=\"T_c72b094a_5463_11ec_a6c7_0242ac1c0002row4_col4\" class=\"data row4 col4\" >394</td>\n",
       "                        <td id=\"T_c72b094a_5463_11ec_a6c7_0242ac1c0002row4_col5\" class=\"data row4 col5\" >1.166ks</td>\n",
       "                        <td id=\"T_c72b094a_5463_11ec_a6c7_0242ac1c0002row4_col6\" class=\"data row4 col6\" >88%</td>\n",
       "            </tr>\n",
       "            <tr>\n",
       "                                <td id=\"T_c72b094a_5463_11ec_a6c7_0242ac1c0002row5_col0\" class=\"data row5 col0\" ></td>\n",
       "                        <td id=\"T_c72b094a_5463_11ec_a6c7_0242ac1c0002row5_col1\" class=\"data row5 col1\" >step</td>\n",
       "                        <td id=\"T_c72b094a_5463_11ec_a6c7_0242ac1c0002row5_col2\" class=\"data row5 col2\" >1.685 s</td>\n",
       "                        <td id=\"T_c72b094a_5463_11ec_a6c7_0242ac1c0002row5_col3\" class=\"data row5 col3\" >80.89ms</td>\n",
       "                        <td id=\"T_c72b094a_5463_11ec_a6c7_0242ac1c0002row5_col4\" class=\"data row5 col4\" >394</td>\n",
       "                        <td id=\"T_c72b094a_5463_11ec_a6c7_0242ac1c0002row5_col5\" class=\"data row5 col5\" >663.9 s</td>\n",
       "                        <td id=\"T_c72b094a_5463_11ec_a6c7_0242ac1c0002row5_col6\" class=\"data row5 col6\" >50%</td>\n",
       "            </tr>\n",
       "            <tr>\n",
       "                                <td id=\"T_c72b094a_5463_11ec_a6c7_0242ac1c0002row6_col0\" class=\"data row6 col0\" ></td>\n",
       "                        <td id=\"T_c72b094a_5463_11ec_a6c7_0242ac1c0002row6_col1\" class=\"data row6 col1\" >backward</td>\n",
       "                        <td id=\"T_c72b094a_5463_11ec_a6c7_0242ac1c0002row6_col2\" class=\"data row6 col2\" >1.155 s</td>\n",
       "                        <td id=\"T_c72b094a_5463_11ec_a6c7_0242ac1c0002row6_col3\" class=\"data row6 col3\" >487.7ms</td>\n",
       "                        <td id=\"T_c72b094a_5463_11ec_a6c7_0242ac1c0002row6_col4\" class=\"data row6 col4\" >394</td>\n",
       "                        <td id=\"T_c72b094a_5463_11ec_a6c7_0242ac1c0002row6_col5\" class=\"data row6 col5\" >455.0 s</td>\n",
       "                        <td id=\"T_c72b094a_5463_11ec_a6c7_0242ac1c0002row6_col6\" class=\"data row6 col6\" >34%</td>\n",
       "            </tr>\n",
       "            <tr>\n",
       "                                <td id=\"T_c72b094a_5463_11ec_a6c7_0242ac1c0002row7_col0\" class=\"data row7 col0\" ></td>\n",
       "                        <td id=\"T_c72b094a_5463_11ec_a6c7_0242ac1c0002row7_col1\" class=\"data row7 col1\" >pred</td>\n",
       "                        <td id=\"T_c72b094a_5463_11ec_a6c7_0242ac1c0002row7_col2\" class=\"data row7 col2\" >99.67ms</td>\n",
       "                        <td id=\"T_c72b094a_5463_11ec_a6c7_0242ac1c0002row7_col3\" class=\"data row7 col3\" >257.7ms</td>\n",
       "                        <td id=\"T_c72b094a_5463_11ec_a6c7_0242ac1c0002row7_col4\" class=\"data row7 col4\" >394</td>\n",
       "                        <td id=\"T_c72b094a_5463_11ec_a6c7_0242ac1c0002row7_col5\" class=\"data row7 col5\" >39.27 s</td>\n",
       "                        <td id=\"T_c72b094a_5463_11ec_a6c7_0242ac1c0002row7_col6\" class=\"data row7 col6\" >3%</td>\n",
       "            </tr>\n",
       "            <tr>\n",
       "                                <td id=\"T_c72b094a_5463_11ec_a6c7_0242ac1c0002row8_col0\" class=\"data row8 col0\" ></td>\n",
       "                        <td id=\"T_c72b094a_5463_11ec_a6c7_0242ac1c0002row8_col1\" class=\"data row8 col1\" >draw</td>\n",
       "                        <td id=\"T_c72b094a_5463_11ec_a6c7_0242ac1c0002row8_col2\" class=\"data row8 col2\" >14.02ms</td>\n",
       "                        <td id=\"T_c72b094a_5463_11ec_a6c7_0242ac1c0002row8_col3\" class=\"data row8 col3\" >44.24ms</td>\n",
       "                        <td id=\"T_c72b094a_5463_11ec_a6c7_0242ac1c0002row8_col4\" class=\"data row8 col4\" >394</td>\n",
       "                        <td id=\"T_c72b094a_5463_11ec_a6c7_0242ac1c0002row8_col5\" class=\"data row8 col5\" >5.525 s</td>\n",
       "                        <td id=\"T_c72b094a_5463_11ec_a6c7_0242ac1c0002row8_col6\" class=\"data row8 col6\" >0%</td>\n",
       "            </tr>\n",
       "            <tr>\n",
       "                                <td id=\"T_c72b094a_5463_11ec_a6c7_0242ac1c0002row9_col0\" class=\"data row9 col0\" ></td>\n",
       "                        <td id=\"T_c72b094a_5463_11ec_a6c7_0242ac1c0002row9_col1\" class=\"data row9 col1\" >zero_grad</td>\n",
       "                        <td id=\"T_c72b094a_5463_11ec_a6c7_0242ac1c0002row9_col2\" class=\"data row9 col2\" >2.799ms</td>\n",
       "                        <td id=\"T_c72b094a_5463_11ec_a6c7_0242ac1c0002row9_col3\" class=\"data row9 col3\" >719.0µs</td>\n",
       "                        <td id=\"T_c72b094a_5463_11ec_a6c7_0242ac1c0002row9_col4\" class=\"data row9 col4\" >394</td>\n",
       "                        <td id=\"T_c72b094a_5463_11ec_a6c7_0242ac1c0002row9_col5\" class=\"data row9 col5\" >1.103 s</td>\n",
       "                        <td id=\"T_c72b094a_5463_11ec_a6c7_0242ac1c0002row9_col6\" class=\"data row9 col6\" >0%</td>\n",
       "            </tr>\n",
       "            <tr>\n",
       "                                <td id=\"T_c72b094a_5463_11ec_a6c7_0242ac1c0002row10_col0\" class=\"data row10 col0\" ></td>\n",
       "                        <td id=\"T_c72b094a_5463_11ec_a6c7_0242ac1c0002row10_col1\" class=\"data row10 col1\" >loss</td>\n",
       "                        <td id=\"T_c72b094a_5463_11ec_a6c7_0242ac1c0002row10_col2\" class=\"data row10 col2\" >2.143ms</td>\n",
       "                        <td id=\"T_c72b094a_5463_11ec_a6c7_0242ac1c0002row10_col3\" class=\"data row10 col3\" >697.3µs</td>\n",
       "                        <td id=\"T_c72b094a_5463_11ec_a6c7_0242ac1c0002row10_col4\" class=\"data row10 col4\" >394</td>\n",
       "                        <td id=\"T_c72b094a_5463_11ec_a6c7_0242ac1c0002row10_col5\" class=\"data row10 col5\" >844.2ms</td>\n",
       "                        <td id=\"T_c72b094a_5463_11ec_a6c7_0242ac1c0002row10_col6\" class=\"data row10 col6\" >0%</td>\n",
       "            </tr>\n",
       "            <tr>\n",
       "                                <td id=\"T_c72b094a_5463_11ec_a6c7_0242ac1c0002row11_col0\" class=\"data row11 col0\" >valid</td>\n",
       "                        <td id=\"T_c72b094a_5463_11ec_a6c7_0242ac1c0002row11_col1\" class=\"data row11 col1\" >batch</td>\n",
       "                        <td id=\"T_c72b094a_5463_11ec_a6c7_0242ac1c0002row11_col2\" class=\"data row11 col2\" >127.8ms</td>\n",
       "                        <td id=\"T_c72b094a_5463_11ec_a6c7_0242ac1c0002row11_col3\" class=\"data row11 col3\" >386.6ms</td>\n",
       "                        <td id=\"T_c72b094a_5463_11ec_a6c7_0242ac1c0002row11_col4\" class=\"data row11 col4\" >164</td>\n",
       "                        <td id=\"T_c72b094a_5463_11ec_a6c7_0242ac1c0002row11_col5\" class=\"data row11 col5\" >20.95 s</td>\n",
       "                        <td id=\"T_c72b094a_5463_11ec_a6c7_0242ac1c0002row11_col6\" class=\"data row11 col6\" >2%</td>\n",
       "            </tr>\n",
       "            <tr>\n",
       "                                <td id=\"T_c72b094a_5463_11ec_a6c7_0242ac1c0002row12_col0\" class=\"data row12 col0\" ></td>\n",
       "                        <td id=\"T_c72b094a_5463_11ec_a6c7_0242ac1c0002row12_col1\" class=\"data row12 col1\" >pred</td>\n",
       "                        <td id=\"T_c72b094a_5463_11ec_a6c7_0242ac1c0002row12_col2\" class=\"data row12 col2\" >105.7ms</td>\n",
       "                        <td id=\"T_c72b094a_5463_11ec_a6c7_0242ac1c0002row12_col3\" class=\"data row12 col3\" >378.7ms</td>\n",
       "                        <td id=\"T_c72b094a_5463_11ec_a6c7_0242ac1c0002row12_col4\" class=\"data row12 col4\" >164</td>\n",
       "                        <td id=\"T_c72b094a_5463_11ec_a6c7_0242ac1c0002row12_col5\" class=\"data row12 col5\" >17.33 s</td>\n",
       "                        <td id=\"T_c72b094a_5463_11ec_a6c7_0242ac1c0002row12_col6\" class=\"data row12 col6\" >1%</td>\n",
       "            </tr>\n",
       "            <tr>\n",
       "                                <td id=\"T_c72b094a_5463_11ec_a6c7_0242ac1c0002row13_col0\" class=\"data row13 col0\" ></td>\n",
       "                        <td id=\"T_c72b094a_5463_11ec_a6c7_0242ac1c0002row13_col1\" class=\"data row13 col1\" >draw</td>\n",
       "                        <td id=\"T_c72b094a_5463_11ec_a6c7_0242ac1c0002row13_col2\" class=\"data row13 col2\" >19.91ms</td>\n",
       "                        <td id=\"T_c72b094a_5463_11ec_a6c7_0242ac1c0002row13_col3\" class=\"data row13 col3\" >71.68ms</td>\n",
       "                        <td id=\"T_c72b094a_5463_11ec_a6c7_0242ac1c0002row13_col4\" class=\"data row13 col4\" >164</td>\n",
       "                        <td id=\"T_c72b094a_5463_11ec_a6c7_0242ac1c0002row13_col5\" class=\"data row13 col5\" >3.265 s</td>\n",
       "                        <td id=\"T_c72b094a_5463_11ec_a6c7_0242ac1c0002row13_col6\" class=\"data row13 col6\" >0%</td>\n",
       "            </tr>\n",
       "            <tr>\n",
       "                                <td id=\"T_c72b094a_5463_11ec_a6c7_0242ac1c0002row14_col0\" class=\"data row14 col0\" ></td>\n",
       "                        <td id=\"T_c72b094a_5463_11ec_a6c7_0242ac1c0002row14_col1\" class=\"data row14 col1\" >loss</td>\n",
       "                        <td id=\"T_c72b094a_5463_11ec_a6c7_0242ac1c0002row14_col2\" class=\"data row14 col2\" >1.870ms</td>\n",
       "                        <td id=\"T_c72b094a_5463_11ec_a6c7_0242ac1c0002row14_col3\" class=\"data row14 col3\" >1.307ms</td>\n",
       "                        <td id=\"T_c72b094a_5463_11ec_a6c7_0242ac1c0002row14_col4\" class=\"data row14 col4\" >164</td>\n",
       "                        <td id=\"T_c72b094a_5463_11ec_a6c7_0242ac1c0002row14_col5\" class=\"data row14 col5\" >306.7ms</td>\n",
       "                        <td id=\"T_c72b094a_5463_11ec_a6c7_0242ac1c0002row14_col6\" class=\"data row14 col6\" >0%</td>\n",
       "            </tr>\n",
       "    </tbody></table>"
      ],
      "text/plain": [
       "<pandas.io.formats.style.Styler at 0x7f751aeac850>"
      ]
     },
     "metadata": {},
     "output_type": "display_data"
    }
   ],
   "source": [
    "model = partial(xse_resnet50, n_out=10)\n",
    "train_imagenette_fastai(model, 2, name='XSEResNet50', size=224, precision=[16])"
   ]
  },
  {
   "cell_type": "code",
   "execution_count": null,
   "id": "Nh5azYRSCD0s",
   "metadata": {},
   "outputs": [
    {
     "data": {
      "text/html": [
       "<table border=\"1\" class=\"dataframe\">\n",
       "  <thead>\n",
       "    <tr style=\"text-align: left;\">\n",
       "      <th>epoch</th>\n",
       "      <th>train_loss</th>\n",
       "      <th>valid_loss</th>\n",
       "      <th>time</th>\n",
       "    </tr>\n",
       "  </thead>\n",
       "  <tbody>\n",
       "    <tr>\n",
       "      <td>0</td>\n",
       "      <td>1.458839</td>\n",
       "      <td>1.439556</td>\n",
       "      <td>01:14</td>\n",
       "    </tr>\n",
       "    <tr>\n",
       "      <td>1</td>\n",
       "      <td>1.016507</td>\n",
       "      <td>0.924744</td>\n",
       "      <td>01:11</td>\n",
       "    </tr>\n",
       "  </tbody>\n",
       "</table>"
      ],
      "text/plain": [
       "<IPython.core.display.HTML object>"
      ]
     },
     "metadata": {},
     "output_type": "display_data"
    },
    {
     "data": {
      "text/html": [
       "<style  type=\"text/css\" >\n",
       "</style><table id=\"T_2588dc92_5464_11ec_a6c7_0242ac1c0002\" class=\"dataframe\"><caption>Simple Profiler Results</caption><thead>    <tr>        <th class=\"col_heading level0 col0\" >Phase</th>        <th class=\"col_heading level0 col1\" >Action</th>        <th class=\"col_heading level0 col2\" >Mean Duration</th>        <th class=\"col_heading level0 col3\" >Duration Std Dev</th>        <th class=\"col_heading level0 col4\" >Number of Calls</th>        <th class=\"col_heading level0 col5\" >Total Time</th>        <th class=\"col_heading level0 col6\" >Percent of Total</th>    </tr></thead><tbody>\n",
       "                <tr>\n",
       "                                <td id=\"T_2588dc92_5464_11ec_a6c7_0242ac1c0002row0_col0\" class=\"data row0 col0\" >fit</td>\n",
       "                        <td id=\"T_2588dc92_5464_11ec_a6c7_0242ac1c0002row0_col1\" class=\"data row0 col1\" >fit</td>\n",
       "                        <td id=\"T_2588dc92_5464_11ec_a6c7_0242ac1c0002row0_col2\" class=\"data row0 col2\" >-</td>\n",
       "                        <td id=\"T_2588dc92_5464_11ec_a6c7_0242ac1c0002row0_col3\" class=\"data row0 col3\" >-</td>\n",
       "                        <td id=\"T_2588dc92_5464_11ec_a6c7_0242ac1c0002row0_col4\" class=\"data row0 col4\" >1</td>\n",
       "                        <td id=\"T_2588dc92_5464_11ec_a6c7_0242ac1c0002row0_col5\" class=\"data row0 col5\" >146.2 s</td>\n",
       "                        <td id=\"T_2588dc92_5464_11ec_a6c7_0242ac1c0002row0_col6\" class=\"data row0 col6\" >100%</td>\n",
       "            </tr>\n",
       "            <tr>\n",
       "                                <td id=\"T_2588dc92_5464_11ec_a6c7_0242ac1c0002row1_col0\" class=\"data row1 col0\" ></td>\n",
       "                        <td id=\"T_2588dc92_5464_11ec_a6c7_0242ac1c0002row1_col1\" class=\"data row1 col1\" >epoch</td>\n",
       "                        <td id=\"T_2588dc92_5464_11ec_a6c7_0242ac1c0002row1_col2\" class=\"data row1 col2\" >72.93 s</td>\n",
       "                        <td id=\"T_2588dc92_5464_11ec_a6c7_0242ac1c0002row1_col3\" class=\"data row1 col3\" >1.131 s</td>\n",
       "                        <td id=\"T_2588dc92_5464_11ec_a6c7_0242ac1c0002row1_col4\" class=\"data row1 col4\" >2</td>\n",
       "                        <td id=\"T_2588dc92_5464_11ec_a6c7_0242ac1c0002row1_col5\" class=\"data row1 col5\" >145.9 s</td>\n",
       "                        <td id=\"T_2588dc92_5464_11ec_a6c7_0242ac1c0002row1_col6\" class=\"data row1 col6\" >100%</td>\n",
       "            </tr>\n",
       "            <tr>\n",
       "                                <td id=\"T_2588dc92_5464_11ec_a6c7_0242ac1c0002row2_col0\" class=\"data row2 col0\" ></td>\n",
       "                        <td id=\"T_2588dc92_5464_11ec_a6c7_0242ac1c0002row2_col1\" class=\"data row2 col1\" >train</td>\n",
       "                        <td id=\"T_2588dc92_5464_11ec_a6c7_0242ac1c0002row2_col2\" class=\"data row2 col2\" >52.66 s</td>\n",
       "                        <td id=\"T_2588dc92_5464_11ec_a6c7_0242ac1c0002row2_col3\" class=\"data row2 col3\" >959.5ms</td>\n",
       "                        <td id=\"T_2588dc92_5464_11ec_a6c7_0242ac1c0002row2_col4\" class=\"data row2 col4\" >2</td>\n",
       "                        <td id=\"T_2588dc92_5464_11ec_a6c7_0242ac1c0002row2_col5\" class=\"data row2 col5\" >105.3 s</td>\n",
       "                        <td id=\"T_2588dc92_5464_11ec_a6c7_0242ac1c0002row2_col6\" class=\"data row2 col6\" >72%</td>\n",
       "            </tr>\n",
       "            <tr>\n",
       "                                <td id=\"T_2588dc92_5464_11ec_a6c7_0242ac1c0002row3_col0\" class=\"data row3 col0\" ></td>\n",
       "                        <td id=\"T_2588dc92_5464_11ec_a6c7_0242ac1c0002row3_col1\" class=\"data row3 col1\" >validate</td>\n",
       "                        <td id=\"T_2588dc92_5464_11ec_a6c7_0242ac1c0002row3_col2\" class=\"data row3 col2\" >20.27 s</td>\n",
       "                        <td id=\"T_2588dc92_5464_11ec_a6c7_0242ac1c0002row3_col3\" class=\"data row3 col3\" >170.1ms</td>\n",
       "                        <td id=\"T_2588dc92_5464_11ec_a6c7_0242ac1c0002row3_col4\" class=\"data row3 col4\" >2</td>\n",
       "                        <td id=\"T_2588dc92_5464_11ec_a6c7_0242ac1c0002row3_col5\" class=\"data row3 col5\" >40.53 s</td>\n",
       "                        <td id=\"T_2588dc92_5464_11ec_a6c7_0242ac1c0002row3_col6\" class=\"data row3 col6\" >28%</td>\n",
       "            </tr>\n",
       "            <tr>\n",
       "                                <td id=\"T_2588dc92_5464_11ec_a6c7_0242ac1c0002row4_col0\" class=\"data row4 col0\" >train</td>\n",
       "                        <td id=\"T_2588dc92_5464_11ec_a6c7_0242ac1c0002row4_col1\" class=\"data row4 col1\" >batch</td>\n",
       "                        <td id=\"T_2588dc92_5464_11ec_a6c7_0242ac1c0002row4_col2\" class=\"data row4 col2\" >342.4ms</td>\n",
       "                        <td id=\"T_2588dc92_5464_11ec_a6c7_0242ac1c0002row4_col3\" class=\"data row4 col3\" >204.2ms</td>\n",
       "                        <td id=\"T_2588dc92_5464_11ec_a6c7_0242ac1c0002row4_col4\" class=\"data row4 col4\" >294</td>\n",
       "                        <td id=\"T_2588dc92_5464_11ec_a6c7_0242ac1c0002row4_col5\" class=\"data row4 col5\" >100.7 s</td>\n",
       "                        <td id=\"T_2588dc92_5464_11ec_a6c7_0242ac1c0002row4_col6\" class=\"data row4 col6\" >69%</td>\n",
       "            </tr>\n",
       "            <tr>\n",
       "                                <td id=\"T_2588dc92_5464_11ec_a6c7_0242ac1c0002row5_col0\" class=\"data row5 col0\" ></td>\n",
       "                        <td id=\"T_2588dc92_5464_11ec_a6c7_0242ac1c0002row5_col1\" class=\"data row5 col1\" >draw</td>\n",
       "                        <td id=\"T_2588dc92_5464_11ec_a6c7_0242ac1c0002row5_col2\" class=\"data row5 col2\" >132.7ms</td>\n",
       "                        <td id=\"T_2588dc92_5464_11ec_a6c7_0242ac1c0002row5_col3\" class=\"data row5 col3\" >125.7ms</td>\n",
       "                        <td id=\"T_2588dc92_5464_11ec_a6c7_0242ac1c0002row5_col4\" class=\"data row5 col4\" >294</td>\n",
       "                        <td id=\"T_2588dc92_5464_11ec_a6c7_0242ac1c0002row5_col5\" class=\"data row5 col5\" >39.01 s</td>\n",
       "                        <td id=\"T_2588dc92_5464_11ec_a6c7_0242ac1c0002row5_col6\" class=\"data row5 col6\" >27%</td>\n",
       "            </tr>\n",
       "            <tr>\n",
       "                                <td id=\"T_2588dc92_5464_11ec_a6c7_0242ac1c0002row6_col0\" class=\"data row6 col0\" ></td>\n",
       "                        <td id=\"T_2588dc92_5464_11ec_a6c7_0242ac1c0002row6_col1\" class=\"data row6 col1\" >step</td>\n",
       "                        <td id=\"T_2588dc92_5464_11ec_a6c7_0242ac1c0002row6_col2\" class=\"data row6 col2\" >103.8ms</td>\n",
       "                        <td id=\"T_2588dc92_5464_11ec_a6c7_0242ac1c0002row6_col3\" class=\"data row6 col3\" >15.74ms</td>\n",
       "                        <td id=\"T_2588dc92_5464_11ec_a6c7_0242ac1c0002row6_col4\" class=\"data row6 col4\" >294</td>\n",
       "                        <td id=\"T_2588dc92_5464_11ec_a6c7_0242ac1c0002row6_col5\" class=\"data row6 col5\" >30.51 s</td>\n",
       "                        <td id=\"T_2588dc92_5464_11ec_a6c7_0242ac1c0002row6_col6\" class=\"data row6 col6\" >21%</td>\n",
       "            </tr>\n",
       "            <tr>\n",
       "                                <td id=\"T_2588dc92_5464_11ec_a6c7_0242ac1c0002row7_col0\" class=\"data row7 col0\" ></td>\n",
       "                        <td id=\"T_2588dc92_5464_11ec_a6c7_0242ac1c0002row7_col1\" class=\"data row7 col1\" >pred</td>\n",
       "                        <td id=\"T_2588dc92_5464_11ec_a6c7_0242ac1c0002row7_col2\" class=\"data row7 col2\" >50.93ms</td>\n",
       "                        <td id=\"T_2588dc92_5464_11ec_a6c7_0242ac1c0002row7_col3\" class=\"data row7 col3\" >68.47ms</td>\n",
       "                        <td id=\"T_2588dc92_5464_11ec_a6c7_0242ac1c0002row7_col4\" class=\"data row7 col4\" >294</td>\n",
       "                        <td id=\"T_2588dc92_5464_11ec_a6c7_0242ac1c0002row7_col5\" class=\"data row7 col5\" >14.97 s</td>\n",
       "                        <td id=\"T_2588dc92_5464_11ec_a6c7_0242ac1c0002row7_col6\" class=\"data row7 col6\" >10%</td>\n",
       "            </tr>\n",
       "            <tr>\n",
       "                                <td id=\"T_2588dc92_5464_11ec_a6c7_0242ac1c0002row8_col0\" class=\"data row8 col0\" ></td>\n",
       "                        <td id=\"T_2588dc92_5464_11ec_a6c7_0242ac1c0002row8_col1\" class=\"data row8 col1\" >backward</td>\n",
       "                        <td id=\"T_2588dc92_5464_11ec_a6c7_0242ac1c0002row8_col2\" class=\"data row8 col2\" >48.35ms</td>\n",
       "                        <td id=\"T_2588dc92_5464_11ec_a6c7_0242ac1c0002row8_col3\" class=\"data row8 col3\" >63.22ms</td>\n",
       "                        <td id=\"T_2588dc92_5464_11ec_a6c7_0242ac1c0002row8_col4\" class=\"data row8 col4\" >294</td>\n",
       "                        <td id=\"T_2588dc92_5464_11ec_a6c7_0242ac1c0002row8_col5\" class=\"data row8 col5\" >14.22 s</td>\n",
       "                        <td id=\"T_2588dc92_5464_11ec_a6c7_0242ac1c0002row8_col6\" class=\"data row8 col6\" >10%</td>\n",
       "            </tr>\n",
       "            <tr>\n",
       "                                <td id=\"T_2588dc92_5464_11ec_a6c7_0242ac1c0002row9_col0\" class=\"data row9 col0\" ></td>\n",
       "                        <td id=\"T_2588dc92_5464_11ec_a6c7_0242ac1c0002row9_col1\" class=\"data row9 col1\" >loss</td>\n",
       "                        <td id=\"T_2588dc92_5464_11ec_a6c7_0242ac1c0002row9_col2\" class=\"data row9 col2\" >3.239ms</td>\n",
       "                        <td id=\"T_2588dc92_5464_11ec_a6c7_0242ac1c0002row9_col3\" class=\"data row9 col3\" >2.915ms</td>\n",
       "                        <td id=\"T_2588dc92_5464_11ec_a6c7_0242ac1c0002row9_col4\" class=\"data row9 col4\" >294</td>\n",
       "                        <td id=\"T_2588dc92_5464_11ec_a6c7_0242ac1c0002row9_col5\" class=\"data row9 col5\" >952.3ms</td>\n",
       "                        <td id=\"T_2588dc92_5464_11ec_a6c7_0242ac1c0002row9_col6\" class=\"data row9 col6\" >1%</td>\n",
       "            </tr>\n",
       "            <tr>\n",
       "                                <td id=\"T_2588dc92_5464_11ec_a6c7_0242ac1c0002row10_col0\" class=\"data row10 col0\" ></td>\n",
       "                        <td id=\"T_2588dc92_5464_11ec_a6c7_0242ac1c0002row10_col1\" class=\"data row10 col1\" >zero_grad</td>\n",
       "                        <td id=\"T_2588dc92_5464_11ec_a6c7_0242ac1c0002row10_col2\" class=\"data row10 col2\" >2.929ms</td>\n",
       "                        <td id=\"T_2588dc92_5464_11ec_a6c7_0242ac1c0002row10_col3\" class=\"data row10 col3\" >2.325ms</td>\n",
       "                        <td id=\"T_2588dc92_5464_11ec_a6c7_0242ac1c0002row10_col4\" class=\"data row10 col4\" >294</td>\n",
       "                        <td id=\"T_2588dc92_5464_11ec_a6c7_0242ac1c0002row10_col5\" class=\"data row10 col5\" >861.1ms</td>\n",
       "                        <td id=\"T_2588dc92_5464_11ec_a6c7_0242ac1c0002row10_col6\" class=\"data row10 col6\" >1%</td>\n",
       "            </tr>\n",
       "            <tr>\n",
       "                                <td id=\"T_2588dc92_5464_11ec_a6c7_0242ac1c0002row11_col0\" class=\"data row11 col0\" >valid</td>\n",
       "                        <td id=\"T_2588dc92_5464_11ec_a6c7_0242ac1c0002row11_col1\" class=\"data row11 col1\" >batch</td>\n",
       "                        <td id=\"T_2588dc92_5464_11ec_a6c7_0242ac1c0002row11_col2\" class=\"data row11 col2\" >309.4ms</td>\n",
       "                        <td id=\"T_2588dc92_5464_11ec_a6c7_0242ac1c0002row11_col3\" class=\"data row11 col3\" >252.2ms</td>\n",
       "                        <td id=\"T_2588dc92_5464_11ec_a6c7_0242ac1c0002row11_col4\" class=\"data row11 col4\" >124</td>\n",
       "                        <td id=\"T_2588dc92_5464_11ec_a6c7_0242ac1c0002row11_col5\" class=\"data row11 col5\" >38.37 s</td>\n",
       "                        <td id=\"T_2588dc92_5464_11ec_a6c7_0242ac1c0002row11_col6\" class=\"data row11 col6\" >26%</td>\n",
       "            </tr>\n",
       "            <tr>\n",
       "                                <td id=\"T_2588dc92_5464_11ec_a6c7_0242ac1c0002row12_col0\" class=\"data row12 col0\" ></td>\n",
       "                        <td id=\"T_2588dc92_5464_11ec_a6c7_0242ac1c0002row12_col1\" class=\"data row12 col1\" >draw</td>\n",
       "                        <td id=\"T_2588dc92_5464_11ec_a6c7_0242ac1c0002row12_col2\" class=\"data row12 col2\" >261.9ms</td>\n",
       "                        <td id=\"T_2588dc92_5464_11ec_a6c7_0242ac1c0002row12_col3\" class=\"data row12 col3\" >252.2ms</td>\n",
       "                        <td id=\"T_2588dc92_5464_11ec_a6c7_0242ac1c0002row12_col4\" class=\"data row12 col4\" >124</td>\n",
       "                        <td id=\"T_2588dc92_5464_11ec_a6c7_0242ac1c0002row12_col5\" class=\"data row12 col5\" >32.47 s</td>\n",
       "                        <td id=\"T_2588dc92_5464_11ec_a6c7_0242ac1c0002row12_col6\" class=\"data row12 col6\" >22%</td>\n",
       "            </tr>\n",
       "            <tr>\n",
       "                                <td id=\"T_2588dc92_5464_11ec_a6c7_0242ac1c0002row13_col0\" class=\"data row13 col0\" ></td>\n",
       "                        <td id=\"T_2588dc92_5464_11ec_a6c7_0242ac1c0002row13_col1\" class=\"data row13 col1\" >pred</td>\n",
       "                        <td id=\"T_2588dc92_5464_11ec_a6c7_0242ac1c0002row13_col2\" class=\"data row13 col2\" >44.45ms</td>\n",
       "                        <td id=\"T_2588dc92_5464_11ec_a6c7_0242ac1c0002row13_col3\" class=\"data row13 col3\" >36.14ms</td>\n",
       "                        <td id=\"T_2588dc92_5464_11ec_a6c7_0242ac1c0002row13_col4\" class=\"data row13 col4\" >124</td>\n",
       "                        <td id=\"T_2588dc92_5464_11ec_a6c7_0242ac1c0002row13_col5\" class=\"data row13 col5\" >5.511 s</td>\n",
       "                        <td id=\"T_2588dc92_5464_11ec_a6c7_0242ac1c0002row13_col6\" class=\"data row13 col6\" >4%</td>\n",
       "            </tr>\n",
       "            <tr>\n",
       "                                <td id=\"T_2588dc92_5464_11ec_a6c7_0242ac1c0002row14_col0\" class=\"data row14 col0\" ></td>\n",
       "                        <td id=\"T_2588dc92_5464_11ec_a6c7_0242ac1c0002row14_col1\" class=\"data row14 col1\" >loss</td>\n",
       "                        <td id=\"T_2588dc92_5464_11ec_a6c7_0242ac1c0002row14_col2\" class=\"data row14 col2\" >2.609ms</td>\n",
       "                        <td id=\"T_2588dc92_5464_11ec_a6c7_0242ac1c0002row14_col3\" class=\"data row14 col3\" >2.274ms</td>\n",
       "                        <td id=\"T_2588dc92_5464_11ec_a6c7_0242ac1c0002row14_col4\" class=\"data row14 col4\" >124</td>\n",
       "                        <td id=\"T_2588dc92_5464_11ec_a6c7_0242ac1c0002row14_col5\" class=\"data row14 col5\" >323.5ms</td>\n",
       "                        <td id=\"T_2588dc92_5464_11ec_a6c7_0242ac1c0002row14_col6\" class=\"data row14 col6\" >0%</td>\n",
       "            </tr>\n",
       "    </tbody></table>"
      ],
      "text/plain": [
       "<pandas.io.formats.style.Styler at 0x7f751ccb5a90>"
      ]
     },
     "metadata": {},
     "output_type": "display_data"
    }
   ],
   "source": [
    "model = partial(xresnet18, n_out=10)\n",
    "train_imagenette_fastai(model, 2, name='XResNet18 128', size=128, precision=[16])"
   ]
  },
  {
   "cell_type": "markdown",
   "id": "6mCWoNZY-8BM",
   "metadata": {},
   "source": [
    "## Train IMDB"
   ]
  },
  {
   "cell_type": "code",
   "execution_count": null,
   "id": "RX7rISRF4_kW",
   "metadata": {},
   "outputs": [
    {
     "name": "stderr",
     "output_type": "stream",
     "text": [
      "Reusing dataset imdb (/root/.cache/huggingface/datasets/imdb/plain_text/1.0.0/2fdd8b9bcadd6e7055e742a706876ba43f19faee861df134affd7a3f60fc38a1)\n"
     ]
    },
    {
     "data": {
      "application/vnd.jupyter.widget-view+json": {
       "model_id": "c2d7eae8842341b58d241daf4ca0e211",
       "version_major": 2,
       "version_minor": 0
      },
      "text/plain": [
       "  0%|          | 0/3 [00:00<?, ?it/s]"
      ]
     },
     "metadata": {},
     "output_type": "display_data"
    },
    {
     "name": "stdout",
     "output_type": "stream",
     "text": [
      "Could not gather input dimensions\n"
     ]
    },
    {
     "data": {
      "text/html": [
       "<table border=\"1\" class=\"dataframe\">\n",
       "  <thead>\n",
       "    <tr style=\"text-align: left;\">\n",
       "      <th>epoch</th>\n",
       "      <th>train_loss</th>\n",
       "      <th>valid_loss</th>\n",
       "      <th>time</th>\n",
       "    </tr>\n",
       "  </thead>\n",
       "  <tbody>\n",
       "    <tr>\n",
       "      <td>0</td>\n",
       "      <td>0.706185</td>\n",
       "      <td>0.692413</td>\n",
       "      <td>10:26</td>\n",
       "    </tr>\n",
       "  </tbody>\n",
       "</table>"
      ],
      "text/plain": [
       "<IPython.core.display.HTML object>"
      ]
     },
     "metadata": {},
     "output_type": "display_data"
    },
    {
     "data": {
      "text/html": [
       "<style  type=\"text/css\" >\n",
       "</style><table id=\"T_aab49aea_5465_11ec_a6c7_0242ac1c0002\" class=\"dataframe\"><caption>Simple Profiler Results</caption><thead>    <tr>        <th class=\"col_heading level0 col0\" >Phase</th>        <th class=\"col_heading level0 col1\" >Action</th>        <th class=\"col_heading level0 col2\" >Mean Duration</th>        <th class=\"col_heading level0 col3\" >Duration Std Dev</th>        <th class=\"col_heading level0 col4\" >Number of Calls</th>        <th class=\"col_heading level0 col5\" >Total Time</th>        <th class=\"col_heading level0 col6\" >Percent of Total</th>    </tr></thead><tbody>\n",
       "                <tr>\n",
       "                                <td id=\"T_aab49aea_5465_11ec_a6c7_0242ac1c0002row0_col0\" class=\"data row0 col0\" >fit</td>\n",
       "                        <td id=\"T_aab49aea_5465_11ec_a6c7_0242ac1c0002row0_col1\" class=\"data row0 col1\" >fit</td>\n",
       "                        <td id=\"T_aab49aea_5465_11ec_a6c7_0242ac1c0002row0_col2\" class=\"data row0 col2\" >-</td>\n",
       "                        <td id=\"T_aab49aea_5465_11ec_a6c7_0242ac1c0002row0_col3\" class=\"data row0 col3\" >-</td>\n",
       "                        <td id=\"T_aab49aea_5465_11ec_a6c7_0242ac1c0002row0_col4\" class=\"data row0 col4\" >1</td>\n",
       "                        <td id=\"T_aab49aea_5465_11ec_a6c7_0242ac1c0002row0_col5\" class=\"data row0 col5\" >626.3 s</td>\n",
       "                        <td id=\"T_aab49aea_5465_11ec_a6c7_0242ac1c0002row0_col6\" class=\"data row0 col6\" >100%</td>\n",
       "            </tr>\n",
       "            <tr>\n",
       "                                <td id=\"T_aab49aea_5465_11ec_a6c7_0242ac1c0002row1_col0\" class=\"data row1 col0\" ></td>\n",
       "                        <td id=\"T_aab49aea_5465_11ec_a6c7_0242ac1c0002row1_col1\" class=\"data row1 col1\" >epoch</td>\n",
       "                        <td id=\"T_aab49aea_5465_11ec_a6c7_0242ac1c0002row1_col2\" class=\"data row1 col2\" >626.3 s</td>\n",
       "                        <td id=\"T_aab49aea_5465_11ec_a6c7_0242ac1c0002row1_col3\" class=\"data row1 col3\" >-</td>\n",
       "                        <td id=\"T_aab49aea_5465_11ec_a6c7_0242ac1c0002row1_col4\" class=\"data row1 col4\" >1</td>\n",
       "                        <td id=\"T_aab49aea_5465_11ec_a6c7_0242ac1c0002row1_col5\" class=\"data row1 col5\" >626.3 s</td>\n",
       "                        <td id=\"T_aab49aea_5465_11ec_a6c7_0242ac1c0002row1_col6\" class=\"data row1 col6\" >100%</td>\n",
       "            </tr>\n",
       "            <tr>\n",
       "                                <td id=\"T_aab49aea_5465_11ec_a6c7_0242ac1c0002row2_col0\" class=\"data row2 col0\" ></td>\n",
       "                        <td id=\"T_aab49aea_5465_11ec_a6c7_0242ac1c0002row2_col1\" class=\"data row2 col1\" >train</td>\n",
       "                        <td id=\"T_aab49aea_5465_11ec_a6c7_0242ac1c0002row2_col2\" class=\"data row2 col2\" >465.6 s</td>\n",
       "                        <td id=\"T_aab49aea_5465_11ec_a6c7_0242ac1c0002row2_col3\" class=\"data row2 col3\" >-</td>\n",
       "                        <td id=\"T_aab49aea_5465_11ec_a6c7_0242ac1c0002row2_col4\" class=\"data row2 col4\" >1</td>\n",
       "                        <td id=\"T_aab49aea_5465_11ec_a6c7_0242ac1c0002row2_col5\" class=\"data row2 col5\" >465.6 s</td>\n",
       "                        <td id=\"T_aab49aea_5465_11ec_a6c7_0242ac1c0002row2_col6\" class=\"data row2 col6\" >74%</td>\n",
       "            </tr>\n",
       "            <tr>\n",
       "                                <td id=\"T_aab49aea_5465_11ec_a6c7_0242ac1c0002row3_col0\" class=\"data row3 col0\" ></td>\n",
       "                        <td id=\"T_aab49aea_5465_11ec_a6c7_0242ac1c0002row3_col1\" class=\"data row3 col1\" >validate</td>\n",
       "                        <td id=\"T_aab49aea_5465_11ec_a6c7_0242ac1c0002row3_col2\" class=\"data row3 col2\" >160.6 s</td>\n",
       "                        <td id=\"T_aab49aea_5465_11ec_a6c7_0242ac1c0002row3_col3\" class=\"data row3 col3\" >-</td>\n",
       "                        <td id=\"T_aab49aea_5465_11ec_a6c7_0242ac1c0002row3_col4\" class=\"data row3 col4\" >1</td>\n",
       "                        <td id=\"T_aab49aea_5465_11ec_a6c7_0242ac1c0002row3_col5\" class=\"data row3 col5\" >160.6 s</td>\n",
       "                        <td id=\"T_aab49aea_5465_11ec_a6c7_0242ac1c0002row3_col6\" class=\"data row3 col6\" >26%</td>\n",
       "            </tr>\n",
       "            <tr>\n",
       "                                <td id=\"T_aab49aea_5465_11ec_a6c7_0242ac1c0002row4_col0\" class=\"data row4 col0\" >train</td>\n",
       "                        <td id=\"T_aab49aea_5465_11ec_a6c7_0242ac1c0002row4_col1\" class=\"data row4 col1\" >batch</td>\n",
       "                        <td id=\"T_aab49aea_5465_11ec_a6c7_0242ac1c0002row4_col2\" class=\"data row4 col2\" >2.201 s</td>\n",
       "                        <td id=\"T_aab49aea_5465_11ec_a6c7_0242ac1c0002row4_col3\" class=\"data row4 col3\" >1.030 s</td>\n",
       "                        <td id=\"T_aab49aea_5465_11ec_a6c7_0242ac1c0002row4_col4\" class=\"data row4 col4\" >208</td>\n",
       "                        <td id=\"T_aab49aea_5465_11ec_a6c7_0242ac1c0002row4_col5\" class=\"data row4 col5\" >457.8 s</td>\n",
       "                        <td id=\"T_aab49aea_5465_11ec_a6c7_0242ac1c0002row4_col6\" class=\"data row4 col6\" >73%</td>\n",
       "            </tr>\n",
       "            <tr>\n",
       "                                <td id=\"T_aab49aea_5465_11ec_a6c7_0242ac1c0002row5_col0\" class=\"data row5 col0\" ></td>\n",
       "                        <td id=\"T_aab49aea_5465_11ec_a6c7_0242ac1c0002row5_col1\" class=\"data row5 col1\" >backward</td>\n",
       "                        <td id=\"T_aab49aea_5465_11ec_a6c7_0242ac1c0002row5_col2\" class=\"data row5 col2\" >1.503 s</td>\n",
       "                        <td id=\"T_aab49aea_5465_11ec_a6c7_0242ac1c0002row5_col3\" class=\"data row5 col3\" >793.6ms</td>\n",
       "                        <td id=\"T_aab49aea_5465_11ec_a6c7_0242ac1c0002row5_col4\" class=\"data row5 col4\" >208</td>\n",
       "                        <td id=\"T_aab49aea_5465_11ec_a6c7_0242ac1c0002row5_col5\" class=\"data row5 col5\" >312.5 s</td>\n",
       "                        <td id=\"T_aab49aea_5465_11ec_a6c7_0242ac1c0002row5_col6\" class=\"data row5 col6\" >50%</td>\n",
       "            </tr>\n",
       "            <tr>\n",
       "                                <td id=\"T_aab49aea_5465_11ec_a6c7_0242ac1c0002row6_col0\" class=\"data row6 col0\" ></td>\n",
       "                        <td id=\"T_aab49aea_5465_11ec_a6c7_0242ac1c0002row6_col1\" class=\"data row6 col1\" >pred</td>\n",
       "                        <td id=\"T_aab49aea_5465_11ec_a6c7_0242ac1c0002row6_col2\" class=\"data row6 col2\" >554.2ms</td>\n",
       "                        <td id=\"T_aab49aea_5465_11ec_a6c7_0242ac1c0002row6_col3\" class=\"data row6 col3\" >271.0ms</td>\n",
       "                        <td id=\"T_aab49aea_5465_11ec_a6c7_0242ac1c0002row6_col4\" class=\"data row6 col4\" >208</td>\n",
       "                        <td id=\"T_aab49aea_5465_11ec_a6c7_0242ac1c0002row6_col5\" class=\"data row6 col5\" >115.3 s</td>\n",
       "                        <td id=\"T_aab49aea_5465_11ec_a6c7_0242ac1c0002row6_col6\" class=\"data row6 col6\" >18%</td>\n",
       "            </tr>\n",
       "            <tr>\n",
       "                                <td id=\"T_aab49aea_5465_11ec_a6c7_0242ac1c0002row7_col0\" class=\"data row7 col0\" ></td>\n",
       "                        <td id=\"T_aab49aea_5465_11ec_a6c7_0242ac1c0002row7_col1\" class=\"data row7 col1\" >step</td>\n",
       "                        <td id=\"T_aab49aea_5465_11ec_a6c7_0242ac1c0002row7_col2\" class=\"data row7 col2\" >115.7ms</td>\n",
       "                        <td id=\"T_aab49aea_5465_11ec_a6c7_0242ac1c0002row7_col3\" class=\"data row7 col3\" >57.66ms</td>\n",
       "                        <td id=\"T_aab49aea_5465_11ec_a6c7_0242ac1c0002row7_col4\" class=\"data row7 col4\" >208</td>\n",
       "                        <td id=\"T_aab49aea_5465_11ec_a6c7_0242ac1c0002row7_col5\" class=\"data row7 col5\" >24.06 s</td>\n",
       "                        <td id=\"T_aab49aea_5465_11ec_a6c7_0242ac1c0002row7_col6\" class=\"data row7 col6\" >4%</td>\n",
       "            </tr>\n",
       "            <tr>\n",
       "                                <td id=\"T_aab49aea_5465_11ec_a6c7_0242ac1c0002row8_col0\" class=\"data row8 col0\" ></td>\n",
       "                        <td id=\"T_aab49aea_5465_11ec_a6c7_0242ac1c0002row8_col1\" class=\"data row8 col1\" >loss</td>\n",
       "                        <td id=\"T_aab49aea_5465_11ec_a6c7_0242ac1c0002row8_col2\" class=\"data row8 col2\" >11.01ms</td>\n",
       "                        <td id=\"T_aab49aea_5465_11ec_a6c7_0242ac1c0002row8_col3\" class=\"data row8 col3\" >5.196ms</td>\n",
       "                        <td id=\"T_aab49aea_5465_11ec_a6c7_0242ac1c0002row8_col4\" class=\"data row8 col4\" >208</td>\n",
       "                        <td id=\"T_aab49aea_5465_11ec_a6c7_0242ac1c0002row8_col5\" class=\"data row8 col5\" >2.290 s</td>\n",
       "                        <td id=\"T_aab49aea_5465_11ec_a6c7_0242ac1c0002row8_col6\" class=\"data row8 col6\" >0%</td>\n",
       "            </tr>\n",
       "            <tr>\n",
       "                                <td id=\"T_aab49aea_5465_11ec_a6c7_0242ac1c0002row9_col0\" class=\"data row9 col0\" ></td>\n",
       "                        <td id=\"T_aab49aea_5465_11ec_a6c7_0242ac1c0002row9_col1\" class=\"data row9 col1\" >draw</td>\n",
       "                        <td id=\"T_aab49aea_5465_11ec_a6c7_0242ac1c0002row9_col2\" class=\"data row9 col2\" >10.51ms</td>\n",
       "                        <td id=\"T_aab49aea_5465_11ec_a6c7_0242ac1c0002row9_col3\" class=\"data row9 col3\" >17.78ms</td>\n",
       "                        <td id=\"T_aab49aea_5465_11ec_a6c7_0242ac1c0002row9_col4\" class=\"data row9 col4\" >208</td>\n",
       "                        <td id=\"T_aab49aea_5465_11ec_a6c7_0242ac1c0002row9_col5\" class=\"data row9 col5\" >2.187 s</td>\n",
       "                        <td id=\"T_aab49aea_5465_11ec_a6c7_0242ac1c0002row9_col6\" class=\"data row9 col6\" >0%</td>\n",
       "            </tr>\n",
       "            <tr>\n",
       "                                <td id=\"T_aab49aea_5465_11ec_a6c7_0242ac1c0002row10_col0\" class=\"data row10 col0\" ></td>\n",
       "                        <td id=\"T_aab49aea_5465_11ec_a6c7_0242ac1c0002row10_col1\" class=\"data row10 col1\" >zero_grad</td>\n",
       "                        <td id=\"T_aab49aea_5465_11ec_a6c7_0242ac1c0002row10_col2\" class=\"data row10 col2\" >6.685ms</td>\n",
       "                        <td id=\"T_aab49aea_5465_11ec_a6c7_0242ac1c0002row10_col3\" class=\"data row10 col3\" >1.352ms</td>\n",
       "                        <td id=\"T_aab49aea_5465_11ec_a6c7_0242ac1c0002row10_col4\" class=\"data row10 col4\" >208</td>\n",
       "                        <td id=\"T_aab49aea_5465_11ec_a6c7_0242ac1c0002row10_col5\" class=\"data row10 col5\" >1.391 s</td>\n",
       "                        <td id=\"T_aab49aea_5465_11ec_a6c7_0242ac1c0002row10_col6\" class=\"data row10 col6\" >0%</td>\n",
       "            </tr>\n",
       "            <tr>\n",
       "                                <td id=\"T_aab49aea_5465_11ec_a6c7_0242ac1c0002row11_col0\" class=\"data row11 col0\" >valid</td>\n",
       "                        <td id=\"T_aab49aea_5465_11ec_a6c7_0242ac1c0002row11_col1\" class=\"data row11 col1\" >batch</td>\n",
       "                        <td id=\"T_aab49aea_5465_11ec_a6c7_0242ac1c0002row11_col2\" class=\"data row11 col2\" >551.0ms</td>\n",
       "                        <td id=\"T_aab49aea_5465_11ec_a6c7_0242ac1c0002row11_col3\" class=\"data row11 col3\" >249.1ms</td>\n",
       "                        <td id=\"T_aab49aea_5465_11ec_a6c7_0242ac1c0002row11_col4\" class=\"data row11 col4\" >209</td>\n",
       "                        <td id=\"T_aab49aea_5465_11ec_a6c7_0242ac1c0002row11_col5\" class=\"data row11 col5\" >115.2 s</td>\n",
       "                        <td id=\"T_aab49aea_5465_11ec_a6c7_0242ac1c0002row11_col6\" class=\"data row11 col6\" >18%</td>\n",
       "            </tr>\n",
       "            <tr>\n",
       "                                <td id=\"T_aab49aea_5465_11ec_a6c7_0242ac1c0002row12_col0\" class=\"data row12 col0\" ></td>\n",
       "                        <td id=\"T_aab49aea_5465_11ec_a6c7_0242ac1c0002row12_col1\" class=\"data row12 col1\" >pred</td>\n",
       "                        <td id=\"T_aab49aea_5465_11ec_a6c7_0242ac1c0002row12_col2\" class=\"data row12 col2\" >539.2ms</td>\n",
       "                        <td id=\"T_aab49aea_5465_11ec_a6c7_0242ac1c0002row12_col3\" class=\"data row12 col3\" >245.4ms</td>\n",
       "                        <td id=\"T_aab49aea_5465_11ec_a6c7_0242ac1c0002row12_col4\" class=\"data row12 col4\" >209</td>\n",
       "                        <td id=\"T_aab49aea_5465_11ec_a6c7_0242ac1c0002row12_col5\" class=\"data row12 col5\" >112.7 s</td>\n",
       "                        <td id=\"T_aab49aea_5465_11ec_a6c7_0242ac1c0002row12_col6\" class=\"data row12 col6\" >18%</td>\n",
       "            </tr>\n",
       "            <tr>\n",
       "                                <td id=\"T_aab49aea_5465_11ec_a6c7_0242ac1c0002row13_col0\" class=\"data row13 col0\" ></td>\n",
       "                        <td id=\"T_aab49aea_5465_11ec_a6c7_0242ac1c0002row13_col1\" class=\"data row13 col1\" >draw</td>\n",
       "                        <td id=\"T_aab49aea_5465_11ec_a6c7_0242ac1c0002row13_col2\" class=\"data row13 col2\" >8.380ms</td>\n",
       "                        <td id=\"T_aab49aea_5465_11ec_a6c7_0242ac1c0002row13_col3\" class=\"data row13 col3\" >16.78ms</td>\n",
       "                        <td id=\"T_aab49aea_5465_11ec_a6c7_0242ac1c0002row13_col4\" class=\"data row13 col4\" >209</td>\n",
       "                        <td id=\"T_aab49aea_5465_11ec_a6c7_0242ac1c0002row13_col5\" class=\"data row13 col5\" >1.751 s</td>\n",
       "                        <td id=\"T_aab49aea_5465_11ec_a6c7_0242ac1c0002row13_col6\" class=\"data row13 col6\" >0%</td>\n",
       "            </tr>\n",
       "            <tr>\n",
       "                                <td id=\"T_aab49aea_5465_11ec_a6c7_0242ac1c0002row14_col0\" class=\"data row14 col0\" ></td>\n",
       "                        <td id=\"T_aab49aea_5465_11ec_a6c7_0242ac1c0002row14_col1\" class=\"data row14 col1\" >loss</td>\n",
       "                        <td id=\"T_aab49aea_5465_11ec_a6c7_0242ac1c0002row14_col2\" class=\"data row14 col2\" >3.218ms</td>\n",
       "                        <td id=\"T_aab49aea_5465_11ec_a6c7_0242ac1c0002row14_col3\" class=\"data row14 col3\" >1.468ms</td>\n",
       "                        <td id=\"T_aab49aea_5465_11ec_a6c7_0242ac1c0002row14_col4\" class=\"data row14 col4\" >209</td>\n",
       "                        <td id=\"T_aab49aea_5465_11ec_a6c7_0242ac1c0002row14_col5\" class=\"data row14 col5\" >672.5ms</td>\n",
       "                        <td id=\"T_aab49aea_5465_11ec_a6c7_0242ac1c0002row14_col6\" class=\"data row14 col6\" >0%</td>\n",
       "            </tr>\n",
       "    </tbody></table>"
      ],
      "text/plain": [
       "<pandas.io.formats.style.Styler at 0x7f751ccb5890>"
      ]
     },
     "metadata": {},
     "output_type": "display_data"
    }
   ],
   "source": [
    "train_imdb_fastai('roberta-base', 1, 'Roberta')"
   ]
  },
  {
   "cell_type": "markdown",
   "id": "bBZQ3_th_Htp",
   "metadata": {},
   "source": [
    "## Train Imagenette PyTorch Lightning"
   ]
  },
  {
   "cell_type": "code",
   "execution_count": null,
   "id": "1Q5F_xBo_HNP",
   "metadata": {},
   "outputs": [
    {
     "name": "stderr",
     "output_type": "stream",
     "text": [
      "Using 16bit native Automatic Mixed Precision (AMP)\n",
      "GPU available: True, used: True\n",
      "TPU available: False, using: 0 TPU cores\n",
      "IPU available: False, using: 0 IPUs\n",
      "LOCAL_RANK: 0 - CUDA_VISIBLE_DEVICES: [0]\n"
     ]
    },
    {
     "name": "stdout",
     "output_type": "stream",
     "text": [
      "Requesting dataloader...\n"
     ]
    },
    {
     "name": "stderr",
     "output_type": "stream",
     "text": [
      "\n",
      "  | Name     | Type                       | Params\n",
      "--------------------------------------------------------\n",
      "0 | model    | ResNet                     | 23.5 M\n",
      "1 | loss_fn  | LabelSmoothingCrossEntropy | 0     \n",
      "2 | accuracy | Accuracy                   | 0     \n",
      "--------------------------------------------------------\n",
      "23.5 M    Trainable params\n",
      "0         Non-trainable params\n",
      "23.5 M    Total params\n",
      "47.057    Total estimated model params size (MB)\n"
     ]
    },
    {
     "data": {
      "application/vnd.jupyter.widget-view+json": {
       "model_id": "68445545612b41ae8f7eaed6c512d1f3",
       "version_major": 2,
       "version_minor": 0
      },
      "text/plain": [
       "Training: 0it [00:00, ?it/s]"
      ]
     },
     "metadata": {},
     "output_type": "display_data"
    },
    {
     "data": {
      "application/vnd.jupyter.widget-view+json": {
       "model_id": "3b47aa08216f4c2e91054e84112739f4",
       "version_major": 2,
       "version_minor": 0
      },
      "text/plain": [
       "Validating: 0it [00:00, ?it/s]"
      ]
     },
     "metadata": {},
     "output_type": "display_data"
    },
    {
     "data": {
      "application/vnd.jupyter.widget-view+json": {
       "model_id": "60180545a0b4424cae2affe7613f865c",
       "version_major": 2,
       "version_minor": 0
      },
      "text/plain": [
       "Validating: 0it [00:00, ?it/s]"
      ]
     },
     "metadata": {},
     "output_type": "display_data"
    }
   ],
   "source": [
    "model = partial(timm.create_model, model_name='resnet50', pretrained=False, num_classes=10)\n",
    "train_pl(model, 2, name='ResNet50', size=224)"
   ]
  }
 ],
 "metadata": {
  "kernelspec": {
   "display_name": "Python 3",
   "name": "python3"
  }
 },
 "nbformat": 4,
 "nbformat_minor": 5
}
